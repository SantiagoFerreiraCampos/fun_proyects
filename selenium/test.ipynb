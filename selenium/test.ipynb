{
 "cells": [
  {
   "cell_type": "code",
   "execution_count": 19,
   "metadata": {},
   "outputs": [],
   "source": [
    "from selenium import webdriver\n",
    "from selenium.webdriver.common.by import By\n",
    "from selenium.webdriver.common.keys import Keys\n",
    "from selenium.webdriver.support.ui import WebDriverWait\n",
    "from selenium.webdriver.support import expected_conditions as EC\n",
    "from selenium.webdriver.chrome.service import Service\n",
    "import time"
   ]
  },
  {
   "cell_type": "code",
   "execution_count": null,
   "metadata": {},
   "outputs": [],
   "source": [
    "# if everything is set up correctly then this shoul open a window with with google and after 10 seconds it should close on its own.\n",
    "\n",
    "service = Service(executable_path=\"chromedriver.exe\")\n",
    "driver= webdriver.Chrome(service=service)\n",
    "driver.get(\"https://www.google.com\")\n",
    "\n",
    "time.sleep(10)\n",
    "driver.quit()"
   ]
  },
  {
   "cell_type": "code",
   "execution_count": null,
   "metadata": {},
   "outputs": [
    {
     "name": "stdout",
     "output_type": "stream",
     "text": [
      "14 Best Selenium Practice Exercises for Automation Practice\n",
      "Best Selenium Practice Websites in 2024\n",
      "16 Selenium WebDriver Coding Exercises for Java Interview\n",
      "Advanced Selenium Testing Ideas: Real-World Examples ...\n",
      "16 Selenium WebDriver Coding Exercises for Java Interview\n"
     ]
    }
   ],
   "source": [
    "#Now it should open google search fun Selenium exercises and return the title of the top 5 results \n",
    "service = Service(executable_path=\"chromedriver.exe\")\n",
    "driver= webdriver.Chrome(service=service)\n",
    "driver.get(\"https://www.google.com\")\n",
    "\n",
    "search_box = driver.find_element(By.NAME, \"q\")\n",
    "search_box.send_keys(\"fun Selenium exercises\")\n",
    "search_box.send_keys(Keys.RETURN)\n",
    "\n",
    "time.sleep(2)\n",
    "results = driver.find_elements(By.XPATH, \"//h3\")\n",
    "\n",
    "for result in results[:5]:\n",
    "    print(result.text)\n",
    "\n",
    "driver.quit()"
   ]
  },
  {
   "cell_type": "code",
   "execution_count": 18,
   "metadata": {},
   "outputs": [],
   "source": [
    "# lets open youtube this time and play some music \n",
    "service = Service(executable_path=\"chromedriver.exe\")\n",
    "driver= webdriver.Chrome(service=service)\n",
    "driver.get(\"https://www.youtube.com\")\n",
    "search_box = driver.find_element(By.NAME, \"search_query\")\n",
    "search_box.send_keys(\"lofi hip hop beats\")\n",
    "search_box.send_keys(Keys.RETURN)\n",
    "\n",
    "time.sleep(2)\n",
    "video = driver.find_element(By.XPATH, \"//a[@id='video-title']\")\n",
    "video.click()"
   ]
  },
  {
   "cell_type": "code",
   "execution_count": null,
   "metadata": {},
   "outputs": [
    {
     "name": "stdout",
     "output_type": "stream",
     "text": [
      "No ad to skip at the moment.\n",
      "Ad skipped!\n",
      "No ad to skip at the moment.\n",
      "No ad to skip at the moment.\n",
      "No ad to skip at the moment.\n",
      "No ad to skip at the moment.\n",
      "No ad to skip at the moment.\n",
      "No ad to skip at the moment.\n"
     ]
    }
   ],
   "source": [
    "# now lets improve it, we wil click on the skip add button if it comes up and check if it comes up\n",
    "\n",
    "# Set up the ChromeDriver service\n",
    "service = Service(executable_path=\"chromedriver.exe\")\n",
    "driver = webdriver.Chrome(service=service)\n",
    "\n",
    "try:\n",
    "    # Navigate to YouTube\n",
    "    driver.get(\"https://www.youtube.com\")\n",
    "\n",
    "    # Search for a video\n",
    "    search_box = driver.find_element(By.NAME, \"search_query\")\n",
    "    search_box.send_keys(\"lofi hip hop beats\")\n",
    "    search_box.send_keys(Keys.RETURN)\n",
    "\n",
    "    # Wait for results and click the first video\n",
    "    time.sleep(2)  # Give the page time to load (can use WebDriverWait for better reliability)\n",
    "    video = driver.find_element(By.XPATH, \"//a[@id='video-title']\")\n",
    "    video.click()\n",
    "\n",
    "    # Wait for the video to play and monitor for ads\n",
    "    while True:\n",
    "        try:\n",
    "            # Wait for the \"Skip Ads\" button to appear, timeout after 5 seconds\n",
    "            skip_button = WebDriverWait(driver, 5).until(\n",
    "                EC.element_to_be_clickable((By.XPATH, \"//button[contains(@class, 'ytp-skip-ad-button')]\"))\n",
    "            )\n",
    "            \n",
    "            skip_button.click()  # Click the \"Skip Ads\" button\n",
    "            print(\"Ad skipped!\")\n",
    "        except:\n",
    "            # If the button doesn't appear within 5 seconds, check if video is playing normally\n",
    "            print(\"No ad to skip at the moment.\")\n",
    "\n",
    "        \n",
    "        # Sleep briefly to avoid excessive polling\n",
    "        time.sleep(10)\n",
    "\n",
    "except Exception as e:\n",
    "    print(f\"An error occurred: {e}\")\n",
    "\n",
    "finally:\n",
    "    # Clean up by closing the browser\n",
    "    driver.quit()\n"
   ]
  }
 ],
 "metadata": {
  "kernelspec": {
   "display_name": "selenium",
   "language": "python",
   "name": "python3"
  },
  "language_info": {
   "codemirror_mode": {
    "name": "ipython",
    "version": 3
   },
   "file_extension": ".py",
   "mimetype": "text/x-python",
   "name": "python",
   "nbconvert_exporter": "python",
   "pygments_lexer": "ipython3",
   "version": "3.11.10"
  }
 },
 "nbformat": 4,
 "nbformat_minor": 2
}
